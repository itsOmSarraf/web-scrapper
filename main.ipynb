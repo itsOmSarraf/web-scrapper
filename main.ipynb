{
 "cells": [
  {
   "cell_type": "code",
   "execution_count": 3,
   "metadata": {},
   "outputs": [],
   "source": [
    "import requests\n",
    "from bs4 import BeautifulSoup"
   ]
  },
  {
   "cell_type": "code",
   "execution_count": 12,
   "metadata": {},
   "outputs": [],
   "source": [
    "import requests\n",
    "from bs4 import BeautifulSoup\n",
    "\n",
    "def timesofindia():\n",
    "    url = \"https://timesofindia.indiatimes.com/home/headlines\"\n",
    "    page_request = requests.get(url)\n",
    "    data = page_request.content\n",
    "    soup = BeautifulSoup(data, \"html.parser\")\n",
    "    soup_data = soup.prettify()\n",
    "\n",
    "    html_content = \"<html>\\n<head>\\n<title>Times of India Headlines</title>\\n</head>\\n<body>\\n\"\n",
    "\n",
    "    counter = 0\n",
    "    for divtag in soup.find_all('div', {'class': 'headlines-list'}):\n",
    "        for ultag in divtag.find_all('ul', {'class': 'clearfix'}):\n",
    "            if counter <= 10:\n",
    "                for litag in ultag.find_all('li'):\n",
    "                    counter += 1\n",
    "                    link = \"https://timesofindia.indiatimes.com\" + litag.find('a')['href']\n",
    "                    text = litag.text\n",
    "                    html_content += f\"<p>{counter}. <a href='{link}'>{text}</a></p>\\n\"\n",
    "\n",
    "    html_content += \"</body>\\n</html>\"\n",
    "\n",
    "    with open('timesofindia.html', 'w', encoding='utf-8') as file:\n",
    "        file.write(html_content)\n",
    "\n",
    "timesofindia()\n"
   ]
  }
 ],
 "metadata": {
  "kernelspec": {
   "display_name": "Python 3",
   "language": "python",
   "name": "python3"
  },
  "language_info": {
   "codemirror_mode": {
    "name": "ipython",
    "version": 3
   },
   "file_extension": ".py",
   "mimetype": "text/x-python",
   "name": "python",
   "nbconvert_exporter": "python",
   "pygments_lexer": "ipython3",
   "version": "3.12.1"
  }
 },
 "nbformat": 4,
 "nbformat_minor": 2
}
