{
 "cells": [
  {
   "cell_type": "code",
   "execution_count": null,
   "metadata": {},
   "outputs": [],
   "source": [
    "import requests\n",
    "from bs4 import BeautifulSoup"
   ]
  },
  {
   "cell_type": "code",
   "execution_count": 55,
   "metadata": {},
   "outputs": [],
   "source": [
    "def allNews():\n",
    "    url = \"https://timesofindia.indiatimes.com/home/headlines\"\n",
    "    page_request = requests.get(url)\n",
    "    data = page_request.content\n",
    "    soup = BeautifulSoup(data, 'html.parser')\n",
    "    soup_data = soup.prettify()\n",
    "    counter = 0\n",
    "    with open('toi.html', 'w', encoding='utf-8') as file:\n",
    "        for spantag in soup.find_all('span', {'class': 'w_tle'}):\n",
    "            for data in spantag.find_all('a'):\n",
    "                counter += 1\n",
    "                url = 'https://timesofindia.indiatimes.com'+ data['href']\n",
    "                text = data.text\n",
    "                details = f\"{counter}. <a href='{url}'>{text}</a><br>\"\n",
    "                file.write(details)\n",
    "allNews()"
   ]
  }
 ],
 "metadata": {
  "kernelspec": {
   "display_name": "Python 3",
   "language": "python",
   "name": "python3"
  },
  "language_info": {
   "codemirror_mode": {
    "name": "ipython",
    "version": 3
   },
   "file_extension": ".py",
   "mimetype": "text/x-python",
   "name": "python",
   "nbconvert_exporter": "python",
   "pygments_lexer": "ipython3",
   "version": "3.12.1"
  }
 },
 "nbformat": 4,
 "nbformat_minor": 2
}
